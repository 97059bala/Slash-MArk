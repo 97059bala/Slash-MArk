{
 "cells": [
  {
   "cell_type": "code",
   "execution_count": 1,
   "id": "c3b470a8",
   "metadata": {},
   "outputs": [],
   "source": [
    "from difflib import SequenceMatcher"
   ]
  },
  {
   "cell_type": "code",
   "execution_count": 5,
   "id": "85c8fdbe",
   "metadata": {},
   "outputs": [
    {
     "name": "stdout",
     "output_type": "stream",
     "text": [
      "0.6818181818181818\n"
     ]
    }
   ],
   "source": [
    "with open(\"1.txt\") as file1,open(\"2.txt\") as file2:\n",
    "    file1_data=file1.read()\n",
    "    file2_data=file2.read()\n",
    "    similarity_ratio=SequenceMatcher(None,file1_data,file2_data).ratio()\n",
    "    print(similarity_ratio*100)"
   ]
  },
  {
   "cell_type": "code",
   "execution_count": 6,
   "id": "c2278b1c",
   "metadata": {},
   "outputs": [
    {
     "name": "stdout",
     "output_type": "stream",
     "text": [
      "100.0\n"
     ]
    }
   ],
   "source": [
    "with open(\"1.txt\") as file1,open(\"3.txt\") as file2:\n",
    "    file1_data=file1.read()\n",
    "    file2_data=file2.read()\n",
    "    similarity_ratio=SequenceMatcher(None,file1_data,file2_data).ratio()\n",
    "    print(similarity_ratio*100)"
   ]
  },
  {
   "cell_type": "code",
   "execution_count": null,
   "id": "df7b0277",
   "metadata": {},
   "outputs": [],
   "source": []
  }
 ],
 "metadata": {
  "kernelspec": {
   "display_name": "Python 3 (ipykernel)",
   "language": "python",
   "name": "python3"
  },
  "language_info": {
   "codemirror_mode": {
    "name": "ipython",
    "version": 3
   },
   "file_extension": ".py",
   "mimetype": "text/x-python",
   "name": "python",
   "nbconvert_exporter": "python",
   "pygments_lexer": "ipython3",
   "version": "3.11.4"
  }
 },
 "nbformat": 4,
 "nbformat_minor": 5
}
